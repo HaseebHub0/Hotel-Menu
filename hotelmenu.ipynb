{
  "nbformat": 4,
  "nbformat_minor": 0,
  "metadata": {
    "colab": {
      "provenance": [],
      "authorship_tag": "ABX9TyOqEXwh7hNlhrTINkwmHSSa",
      "include_colab_link": true
    },
    "kernelspec": {
      "name": "python3",
      "display_name": "Python 3"
    },
    "language_info": {
      "name": "python"
    }
  },
  "cells": [
    {
      "cell_type": "markdown",
      "metadata": {
        "id": "view-in-github",
        "colab_type": "text"
      },
      "source": [
        "<a href=\"https://colab.research.google.com/github/HaseebHub0/HaseebHub0/blob/main/hotelmenu.ipynb\" target=\"_parent\"><img src=\"https://colab.research.google.com/assets/colab-badge.svg\" alt=\"Open In Colab\"/></a>"
      ]
    },
    {
      "cell_type": "markdown",
      "source": [
        "# **Oven n Grill🍔🍔**\n",
        "\n"
      ],
      "metadata": {
        "id": "2fjYBxF8rQlw"
      }
    },
    {
      "cell_type": "code",
      "source": [
        "menu={\n",
        "    'Pizza':{\n",
        "        'small':950,\n",
        "        'medium':1450,\n",
        "        'large':2000\n",
        "    },'Pasta':{\n",
        "        'small':200,\n",
        "        'medium':350,\n",
        "        'large':550\n",
        "    },'Burger':{\n",
        "        'small':120,\n",
        "        'medium':450,\n",
        "        'large':720\n",
        "    },'Fries':{\n",
        "        'small':100,\n",
        "        'medium':200,\n",
        "        'large':300\n",
        "    },'Hot Coffee':{\n",
        "        'small':50,\n",
        "        'medium':75,\n",
        "        'large':100\n",
        "    },'Cold Coffee':{\n",
        "        'small':50,\n",
        "        'medium':75,\n",
        "        'large':100\n",
        "    },'Tea':{\n",
        "        'small':20,\n",
        "        'medium':40,\n",
        "        'large':60\n",
        "    },'Coffee':{\n",
        "        'small':20,\n",
        "        'medium':40,\n",
        "        'large':60\n",
        "    },'Sandwich':{\n",
        "        'small':50,\n",
        "        'medium':75,\n",
        "        'large':100\n",
        "    },'Salad':{\n",
        "        'small':50,\n",
        "        'medium':75,\n",
        "        'large':100}\n",
        "}"
      ],
      "metadata": {
        "id": "drG5GItvrPmn"
      },
      "execution_count": null,
      "outputs": []
    },
    {
      "cell_type": "code",
      "source": [
        "print(\"Welcome to Oven n Gril🍔🍔\")"
      ],
      "metadata": {
        "colab": {
          "base_uri": "https://localhost:8080/"
        },
        "id": "e9qCq-YduyDW",
        "outputId": "2c2c885e-d26d-43f5-ea42-11a06794f925"
      },
      "execution_count": null,
      "outputs": [
        {
          "output_type": "stream",
          "name": "stdout",
          "text": [
            "Welcome to Oven n Gril🍔🍔\n"
          ]
        }
      ]
    },
    {
      "cell_type": "code",
      "source": [
        "print(\"Pizza\",menu[\"Pizza\"])\n",
        "print(\"Pasta\",menu[\"Pasta\"])\n",
        "print(\"Burger\",menu[\"Burger\"])\n",
        "print(\"Fries\",menu[\"Fries\"])\n",
        "print(\"Hot Coffee\",menu[\"Hot Coffee\"])\n",
        "print(\"Cold Coffee\",menu[\"Cold Coffee\"])\n",
        "print(\"Tea\",menu[\"Tea\"])\n",
        "print(\"Coffee\",menu[\"Coffee\"])\n",
        "print(\"Sandwich\",menu[\"Sandwich\"])\n",
        "print(\"Salad\",menu[\"Salad\"])"
      ],
      "metadata": {
        "colab": {
          "base_uri": "https://localhost:8080/"
        },
        "id": "Q70yEh6Iu0WQ",
        "outputId": "30e5e82a-4b9d-45b6-f287-7c4ff8c901b3"
      },
      "execution_count": null,
      "outputs": [
        {
          "output_type": "stream",
          "name": "stdout",
          "text": [
            "Pizza {'small': 950, 'medium': 1450, 'large': 2000}\n",
            "Pasta {'small': 200, 'medium': 350, 'large': 550}\n",
            "Burger {'small': 120, 'medium': 450, 'large': 720}\n",
            "Fries {'small': 100, 'medium': 200, 'large': 300}\n",
            "Hot Coffee {'small': 50, 'medium': 75, 'large': 100}\n",
            "Cold Coffee {'small': 50, 'medium': 75, 'large': 100}\n",
            "Tea {'small': 20, 'medium': 40, 'large': 60}\n",
            "Coffee {'small': 20, 'medium': 40, 'large': 60}\n",
            "Sandwich {'small': 50, 'medium': 75, 'large': 100}\n",
            "Salad {'small': 50, 'medium': 75, 'large': 100}\n"
          ]
        }
      ]
    },
    {
      "cell_type": "code",
      "source": [
        "order_total=0\n",
        "item_1=input(\"Enter the item you want to order: \")\n",
        "if item_1 in menu:\n",
        "  size_1=input(\"Enter the size of the item: \")\n",
        "  if size_1 in menu[item_1]:\n",
        "    quantity_1=int(input(\"Enter the quantity of the item: \"))\n",
        "    order_total=order_total+menu[item_1][size_1]*quantity_1\n",
        "    print(\"Your order is placed\")\n",
        "  else:\n",
        "    print(\"Size not available\")\n",
        "else:\n",
        "  print(\"Item not available\")\n",
        "another_order=input(\"Do you want to order anything else? (yes/no): \")\n",
        "if another_order==\"yes\":\n",
        "  item_2=input(\"Enter the item you want to order: \")\n",
        "  if item_2 in menu:\n",
        "    size_2=input(\"Enter the size of the item: \")\n",
        "    if size_2 in menu[item_2]:\n",
        "      quantity_2=int(input(\"Enter the quantity of the item: \"))\n",
        "      order_total=order_total+menu[item_2][size_2]*quantity_2\n",
        "      print(\"Your order is placed\")\n",
        "    else:\n",
        "      print(\"Size not available\")\n",
        "\n",
        "  else:\n",
        "    print(\"Item not available\")\n",
        "else:\n",
        "  print(\"Thank you for ordering\")\n",
        "  print(\"Your total order is: \",order_total)\n",
        "  print(\"Thank you for shopping🛍️ with us\")\n",
        "  print(\"Have a nice day👍\")\n",
        "  print(\"Bye\")\n"
      ],
      "metadata": {
        "colab": {
          "base_uri": "https://localhost:8080/"
        },
        "id": "mAE4wOwkwQXd",
        "outputId": "13b350d9-f666-4ad2-d023-4c306aa636e3"
      },
      "execution_count": null,
      "outputs": [
        {
          "output_type": "stream",
          "name": "stdout",
          "text": [
            "Enter the item you want to order: Fries\n",
            "Enter the size of the item: large\n",
            "Enter the quantity of the item: 9\n",
            "Your order is placed\n",
            "Do you want to order anything else? (yes/no): no\n",
            "Thank you for ordering\n",
            "Your total order is:  2700\n",
            "Thank you for shopping🛍️ with us\n",
            "Have a nice day👍\n",
            "Bye\n"
          ]
        }
      ]
    }
  ]
}